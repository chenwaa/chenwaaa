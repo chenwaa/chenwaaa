{
  "nbformat": 4,
  "nbformat_minor": 0,
  "metadata": {
    "colab": {
      "provenance": []
    },
    "kernelspec": {
      "name": "python3",
      "display_name": "Python 3"
    },
    "language_info": {
      "name": "python"
    }
  },
  "cells": [
    {
      "cell_type": "code",
      "execution_count": 1,
      "metadata": {
        "colab": {
          "base_uri": "https://localhost:8080/"
        },
        "id": "HTRQH2Uu1kt1",
        "outputId": "f056f7e6-b390-4dfa-9569-35bd6816840e"
      },
      "outputs": [
        {
          "output_type": "stream",
          "name": "stdout",
          "text": [
            "首項= 210 末項= 399\n",
            "i= 210 list= [210]\n",
            "i= 231 list= [210, 231]\n",
            "i= 252 list= [210, 231, 252]\n",
            "i= 273 list= [210, 231, 252, 273]\n",
            "i= 294 list= [210, 231, 252, 273, 294]\n",
            "i= 315 list= [210, 231, 252, 273, 294, 315]\n",
            "i= 336 list= [210, 231, 252, 273, 294, 315, 336]\n",
            "i= 357 list= [210, 231, 252, 273, 294, 315, 336, 357]\n",
            "i= 378 list= [210, 231, 252, 273, 294, 315, 336, 357, 378]\n",
            "i= 399 list= [210, 231, 252, 273, 294, 315, 336, 357, 378, 399]\n",
            "等差數列：\n",
            "列出200~400之間所有21的倍數= [210, 231, 252, 273, 294, 315, 336, 357, 378, 399]\n"
          ]
        }
      ],
      "source": [
        "首項=200-(200%21)+21\n",
        "末項=400-(400%21)\n",
        "print('首項=',首項,'末項=',末項)\n",
        "list=[]\n",
        "for i in range(首項,末項+21,21):\n",
        "  list.append(i)\n",
        "  print('i=',i,'list=',list)\n",
        "print('等差數列：')\n",
        "print('列出200~400之間所有21的倍數=',list)"
      ]
    }
  ]
}