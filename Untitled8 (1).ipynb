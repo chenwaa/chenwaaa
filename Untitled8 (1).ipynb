{
  "nbformat": 4,
  "nbformat_minor": 0,
  "metadata": {
    "colab": {
      "provenance": []
    },
    "kernelspec": {
      "name": "python3",
      "display_name": "Python 3"
    },
    "language_info": {
      "name": "python"
    }
  },
  "cells": [
    {
      "cell_type": "code",
      "execution_count": 3,
      "metadata": {
        "colab": {
          "base_uri": "https://localhost:8080/"
        },
        "id": "HTRQH2Uu1kt1",
        "outputId": "584e0c17-0294-41ef-c489-d35f7b6ddc85"
      },
      "outputs": [
        {
          "output_type": "stream",
          "name": "stdout",
          "text": [
            "作業成績=100\n",
            "測驗成績=19\n",
            "平時成績=60\n",
            "59.6\n",
            "不及格\n"
          ]
        }
      ],
      "source": [
        "作業成績=int(input('作業成績='))\n",
        "測驗成績=int(input('測驗成績='))\n",
        "平時成績=int(input('平時成績='))\n",
        "grade=作業成績*0.4+測驗成績*0.4+平時成績*0.2\n",
        "print(grade)\n",
        "if(grade<60):\n",
        "  print(\"不及格\")\n",
        "else:\n",
        "  print(\"及格\")"
      ]
    }
  ]
}